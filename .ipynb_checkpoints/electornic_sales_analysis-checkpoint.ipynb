{
 "cells": [
  {
   "cell_type": "code",
   "execution_count": 49,
   "id": "c23a93e4-c682-44db-9e7f-cabd5576784d",
   "metadata": {},
   "outputs": [],
   "source": [
    "import pandas as pd"
   ]
  },
  {
   "cell_type": "code",
   "execution_count": 50,
   "id": "7066c91b-ba08-4f6e-8526-38c62bedb8b2",
   "metadata": {},
   "outputs": [
    {
     "data": {
      "text/plain": [
       "Index(['Order ID', 'Product', 'Quantity Ordered', 'Price Each', 'Order Date',\n",
       "       'Customer Shipping Address', 'City Store', 'Category',\n",
       "       'Customer Gender', 'Customer Age Range', 'Discount'],\n",
       "      dtype='object')"
      ]
     },
     "execution_count": 50,
     "metadata": {},
     "output_type": "execute_result"
    }
   ],
   "source": [
    "df = pd.read_csv('ecommerce/sales_data.csv')\n",
    "df.columns"
   ]
  },
  {
   "cell_type": "code",
   "execution_count": 51,
   "id": "9ab9d5d2-6129-4ccb-ad97-f328a5bf3d7a",
   "metadata": {},
   "outputs": [
    {
     "data": {
      "text/plain": [
       "Index(['order_id', 'product', 'quantity_ordered', 'price_each', 'order_date',\n",
       "       'customer_shipping_address', 'city_store', 'category',\n",
       "       'customer_gender', 'customer_age_range', 'discount'],\n",
       "      dtype='object')"
      ]
     },
     "execution_count": 51,
     "metadata": {},
     "output_type": "execute_result"
    }
   ],
   "source": [
    "# renaming the columns \n",
    "df.columns = [column.lower().replace(' ','_') for column in df.columns]\n",
    "df.columns"
   ]
  },
  {
   "cell_type": "code",
   "execution_count": 52,
   "id": "498c4267-bfdd-45c3-8bc5-dc9984cbc322",
   "metadata": {},
   "outputs": [
    {
     "data": {
      "text/html": [
       "<div>\n",
       "<style scoped>\n",
       "    .dataframe tbody tr th:only-of-type {\n",
       "        vertical-align: middle;\n",
       "    }\n",
       "\n",
       "    .dataframe tbody tr th {\n",
       "        vertical-align: top;\n",
       "    }\n",
       "\n",
       "    .dataframe thead th {\n",
       "        text-align: right;\n",
       "    }\n",
       "</style>\n",
       "<table border=\"1\" class=\"dataframe\">\n",
       "  <thead>\n",
       "    <tr style=\"text-align: right;\">\n",
       "      <th></th>\n",
       "      <th>order_id</th>\n",
       "      <th>product</th>\n",
       "      <th>quantity_ordered</th>\n",
       "      <th>price_each</th>\n",
       "      <th>order_date</th>\n",
       "      <th>customer_shipping_address</th>\n",
       "      <th>city_store</th>\n",
       "      <th>category</th>\n",
       "      <th>customer_gender</th>\n",
       "      <th>customer_age_range</th>\n",
       "      <th>discount</th>\n",
       "    </tr>\n",
       "  </thead>\n",
       "  <tbody>\n",
       "    <tr>\n",
       "      <th>0</th>\n",
       "      <td>236670</td>\n",
       "      <td>Wired Headphones</td>\n",
       "      <td>16</td>\n",
       "      <td>11.99</td>\n",
       "      <td>2019-08-31 22:21:00</td>\n",
       "      <td>359 Spruce St, Seattle, WA 98101</td>\n",
       "      <td>Dallas</td>\n",
       "      <td>Headphones</td>\n",
       "      <td>Male</td>\n",
       "      <td>18-20</td>\n",
       "      <td>0,18</td>\n",
       "    </tr>\n",
       "    <tr>\n",
       "      <th>1</th>\n",
       "      <td>236671</td>\n",
       "      <td>Bose SoundSport Headphones</td>\n",
       "      <td>9</td>\n",
       "      <td>99.99</td>\n",
       "      <td>2019-08-15 15:11:00</td>\n",
       "      <td>492 Ridge St, Dallas, TX 75001</td>\n",
       "      <td>Los Angeles</td>\n",
       "      <td>Headphones</td>\n",
       "      <td>Male</td>\n",
       "      <td>21-25</td>\n",
       "      <td>0,21</td>\n",
       "    </tr>\n",
       "  </tbody>\n",
       "</table>\n",
       "</div>"
      ],
      "text/plain": [
       "   order_id                     product  quantity_ordered price_each  \\\n",
       "0    236670            Wired Headphones                16      11.99   \n",
       "1    236671  Bose SoundSport Headphones                 9      99.99   \n",
       "\n",
       "            order_date         customer_shipping_address   city_store  \\\n",
       "0  2019-08-31 22:21:00  359 Spruce St, Seattle, WA 98101       Dallas   \n",
       "1  2019-08-15 15:11:00    492 Ridge St, Dallas, TX 75001  Los Angeles   \n",
       "\n",
       "     category customer_gender customer_age_range discount  \n",
       "0  Headphones            Male              18-20     0,18  \n",
       "1  Headphones            Male              21-25     0,21  "
      ]
     },
     "execution_count": 52,
     "metadata": {},
     "output_type": "execute_result"
    }
   ],
   "source": [
    "df.head(2)"
   ]
  },
  {
   "cell_type": "code",
   "execution_count": 53,
   "id": "f3caceed-65c3-4e06-b600-0f5bd4dfc683",
   "metadata": {},
   "outputs": [
    {
     "data": {
      "text/plain": [
       "order_id                     0\n",
       "product                      0\n",
       "quantity_ordered             0\n",
       "price_each                   0\n",
       "order_date                   0\n",
       "customer_shipping_address    0\n",
       "city_store                   0\n",
       "category                     0\n",
       "customer_gender              0\n",
       "customer_age_range           0\n",
       "discount                     0\n",
       "dtype: int64"
      ]
     },
     "execution_count": 53,
     "metadata": {},
     "output_type": "execute_result"
    }
   ],
   "source": [
    "# finding null values \n",
    "df.isnull().sum()"
   ]
  },
  {
   "cell_type": "code",
   "execution_count": 54,
   "id": "6f1e7bcf-76cb-49dd-b990-bbfdcc136c50",
   "metadata": {},
   "outputs": [
    {
     "name": "stdout",
     "output_type": "stream",
     "text": [
      "<class 'pandas.core.series.Series'>\n",
      "RangeIndex: 185950 entries, 0 to 185949\n",
      "Series name: order_id\n",
      "Non-Null Count   Dtype\n",
      "--------------   -----\n",
      "185950 non-null  int64\n",
      "dtypes: int64(1)\n",
      "memory usage: 1.4 MB\n"
     ]
    }
   ],
   "source": [
    "df['order_id'].info()"
   ]
  },
  {
   "cell_type": "code",
   "execution_count": 55,
   "id": "9f8384ec-cbea-41cf-a6b0-e71f3982ea85",
   "metadata": {},
   "outputs": [
    {
     "data": {
      "text/plain": [
       "0    0,18\n",
       "1    0,21\n",
       "2    0,05\n",
       "3    0,08\n",
       "4    0,14\n",
       "5    0,22\n",
       "6    0,17\n",
       "7    0,30\n",
       "8    0,25\n",
       "9    0,01\n",
       "Name: discount, dtype: object"
      ]
     },
     "execution_count": 55,
     "metadata": {},
     "output_type": "execute_result"
    }
   ],
   "source": [
    "df['discount'].head(10)"
   ]
  },
  {
   "cell_type": "code",
   "execution_count": 57,
   "id": "61c3ab48-74b2-4527-9fd7-fa73488b177c",
   "metadata": {},
   "outputs": [
    {
     "data": {
      "text/plain": [
       "0    18\n",
       "1    21\n",
       "2     5\n",
       "3     8\n",
       "4    14\n",
       "5    22\n",
       "6    17\n",
       "7    30\n",
       "8    25\n",
       "9     1\n",
       "Name: discount, dtype: int64"
      ]
     },
     "execution_count": 57,
     "metadata": {},
     "output_type": "execute_result"
    }
   ],
   "source": [
    "# converting the datatype for column discount\n",
    "df['discount'] = df['discount'].apply(lambda x : int(x.replace('0,','')))\n",
    "df['discount'].head(10)"
   ]
  },
  {
   "cell_type": "code",
   "execution_count": 58,
   "id": "6edac0e5-9e88-46c0-be4f-e1c2238503fc",
   "metadata": {},
   "outputs": [
    {
     "name": "stdout",
     "output_type": "stream",
     "text": [
      "<class 'pandas.core.frame.DataFrame'>\n",
      "RangeIndex: 185950 entries, 0 to 185949\n",
      "Data columns (total 11 columns):\n",
      " #   Column                     Non-Null Count   Dtype \n",
      "---  ------                     --------------   ----- \n",
      " 0   order_id                   185950 non-null  int64 \n",
      " 1   product                    185950 non-null  object\n",
      " 2   quantity_ordered           185950 non-null  int64 \n",
      " 3   price_each                 185950 non-null  object\n",
      " 4   order_date                 185950 non-null  object\n",
      " 5   customer_shipping_address  185950 non-null  object\n",
      " 6   city_store                 185950 non-null  object\n",
      " 7   category                   185950 non-null  object\n",
      " 8   customer_gender            185950 non-null  object\n",
      " 9   customer_age_range         185950 non-null  object\n",
      " 10  discount                   185950 non-null  int64 \n",
      "dtypes: int64(3), object(8)\n",
      "memory usage: 15.6+ MB\n"
     ]
    }
   ],
   "source": [
    "df.info()"
   ]
  },
  {
   "cell_type": "code",
   "execution_count": 59,
   "id": "c4a7ffbb-27f4-4c7d-b08f-ffe63b5d2e65",
   "metadata": {},
   "outputs": [
    {
     "data": {
      "text/plain": [
       "0     11.99\n",
       "1     99.99\n",
       "2    700.00\n",
       "3      3.84\n",
       "4      3.84\n",
       "Name: price_each, dtype: float64"
      ]
     },
     "execution_count": 59,
     "metadata": {},
     "output_type": "execute_result"
    }
   ],
   "source": [
    "df['price_each'] = df['price_each'].apply(lambda x : float(x.replace('0,','')))\n",
    "df['price_each'].head()"
   ]
  },
  {
   "cell_type": "code",
   "execution_count": 60,
   "id": "bb074ce8-e24c-419c-873b-689d062a24b8",
   "metadata": {},
   "outputs": [
    {
     "name": "stdout",
     "output_type": "stream",
     "text": [
      "<class 'pandas.core.frame.DataFrame'>\n",
      "RangeIndex: 185950 entries, 0 to 185949\n",
      "Data columns (total 11 columns):\n",
      " #   Column                     Non-Null Count   Dtype  \n",
      "---  ------                     --------------   -----  \n",
      " 0   order_id                   185950 non-null  int64  \n",
      " 1   product                    185950 non-null  object \n",
      " 2   quantity_ordered           185950 non-null  int64  \n",
      " 3   price_each                 185950 non-null  float64\n",
      " 4   order_date                 185950 non-null  object \n",
      " 5   customer_shipping_address  185950 non-null  object \n",
      " 6   city_store                 185950 non-null  object \n",
      " 7   category                   185950 non-null  object \n",
      " 8   customer_gender            185950 non-null  object \n",
      " 9   customer_age_range         185950 non-null  object \n",
      " 10  discount                   185950 non-null  int64  \n",
      "dtypes: float64(1), int64(3), object(7)\n",
      "memory usage: 15.6+ MB\n"
     ]
    }
   ],
   "source": [
    "df.info()"
   ]
  },
  {
   "cell_type": "code",
   "execution_count": 61,
   "id": "67c29b52-5b29-4600-adcc-b55d822d66d1",
   "metadata": {},
   "outputs": [],
   "source": [
    "df.to_csv('ecommerce/sales_data_datatype_converted.csv')"
   ]
  },
  {
   "cell_type": "code",
   "execution_count": 63,
   "id": "c27b0ee3-618c-4a9f-90aa-8e57ffedae1b",
   "metadata": {},
   "outputs": [
    {
     "data": {
      "text/plain": [
       "Index(['Unnamed: 0', 'order_id', 'product', 'quantity_ordered', 'price_each',\n",
       "       'order_date', 'customer_shipping_address', 'city_store', 'category',\n",
       "       'customer_gender', 'customer_age_range', 'discount'],\n",
       "      dtype='object')"
      ]
     },
     "execution_count": 63,
     "metadata": {},
     "output_type": "execute_result"
    }
   ],
   "source": [
    "df2 = pd.read_csv('ecommerce/sales_data_datatype_converted.csv')\n",
    "df2.columns"
   ]
  },
  {
   "cell_type": "code",
   "execution_count": 66,
   "id": "6260eb9b-af22-4be3-8ac6-38538aefc1a5",
   "metadata": {},
   "outputs": [
    {
     "name": "stdout",
     "output_type": "stream",
     "text": [
      "<class 'pandas.core.frame.DataFrame'>\n",
      "RangeIndex: 185950 entries, 0 to 185949\n",
      "Data columns (total 12 columns):\n",
      " #   Column                     Non-Null Count   Dtype  \n",
      "---  ------                     --------------   -----  \n",
      " 0   Unnamed: 0                 185950 non-null  int64  \n",
      " 1   order_id                   185950 non-null  int64  \n",
      " 2   product                    185950 non-null  object \n",
      " 3   quantity_ordered           185950 non-null  int64  \n",
      " 4   price_each                 185950 non-null  float64\n",
      " 5   order_date                 185950 non-null  object \n",
      " 6   customer_shipping_address  185950 non-null  object \n",
      " 7   city_store                 185950 non-null  object \n",
      " 8   category                   185950 non-null  object \n",
      " 9   customer_gender            185950 non-null  object \n",
      " 10  customer_age_range         185950 non-null  object \n",
      " 11  discount                   185950 non-null  int64  \n",
      "dtypes: float64(1), int64(4), object(7)\n",
      "memory usage: 17.0+ MB\n"
     ]
    }
   ],
   "source": [
    "df2.info()"
   ]
  },
  {
   "cell_type": "code",
   "execution_count": 72,
   "id": "a13aa21f-fe19-40fb-9b9f-337df63a4f2c",
   "metadata": {},
   "outputs": [
    {
     "data": {
      "text/plain": [
       "'Unnamed: 0'"
      ]
     },
     "execution_count": 72,
     "metadata": {},
     "output_type": "execute_result"
    }
   ],
   "source": [
    "df2.columns[0]"
   ]
  },
  {
   "cell_type": "code",
   "execution_count": 81,
   "id": "fad05ecc-f963-4acf-b296-875ed015c1d2",
   "metadata": {},
   "outputs": [],
   "source": [
    "df2.iloc[:,1:].to_csv('ecommerce/sales_data_datatype_converted.csv')"
   ]
  },
  {
   "cell_type": "code",
   "execution_count": 88,
   "id": "4c5b1acf-cf28-489f-bf8f-e52df1bb5753",
   "metadata": {},
   "outputs": [],
   "source": [
    "df3 = pd.read_csv('ecommerce/sales_data_datatype_converted.csv',index_col = 0)"
   ]
  },
  {
   "cell_type": "code",
   "execution_count": 89,
   "id": "cce36e3a-d756-4e92-ad8d-8e7dea6cc748",
   "metadata": {},
   "outputs": [
    {
     "name": "stdout",
     "output_type": "stream",
     "text": [
      "<class 'pandas.core.frame.DataFrame'>\n",
      "Index: 185950 entries, 0 to 185949\n",
      "Data columns (total 11 columns):\n",
      " #   Column                     Non-Null Count   Dtype  \n",
      "---  ------                     --------------   -----  \n",
      " 0   order_id                   185950 non-null  int64  \n",
      " 1   product                    185950 non-null  object \n",
      " 2   quantity_ordered           185950 non-null  int64  \n",
      " 3   price_each                 185950 non-null  float64\n",
      " 4   order_date                 185950 non-null  object \n",
      " 5   customer_shipping_address  185950 non-null  object \n",
      " 6   city_store                 185950 non-null  object \n",
      " 7   category                   185950 non-null  object \n",
      " 8   customer_gender            185950 non-null  object \n",
      " 9   customer_age_range         185950 non-null  object \n",
      " 10  discount                   185950 non-null  int64  \n",
      "dtypes: float64(1), int64(3), object(7)\n",
      "memory usage: 17.0+ MB\n"
     ]
    }
   ],
   "source": [
    "df3.info()"
   ]
  },
  {
   "cell_type": "code",
   "execution_count": 90,
   "id": "e5b0ed70-f510-4c77-bdd9-d00723826aae",
   "metadata": {},
   "outputs": [
    {
     "data": {
      "text/html": [
       "<div>\n",
       "<style scoped>\n",
       "    .dataframe tbody tr th:only-of-type {\n",
       "        vertical-align: middle;\n",
       "    }\n",
       "\n",
       "    .dataframe tbody tr th {\n",
       "        vertical-align: top;\n",
       "    }\n",
       "\n",
       "    .dataframe thead th {\n",
       "        text-align: right;\n",
       "    }\n",
       "</style>\n",
       "<table border=\"1\" class=\"dataframe\">\n",
       "  <thead>\n",
       "    <tr style=\"text-align: right;\">\n",
       "      <th></th>\n",
       "      <th>order_id</th>\n",
       "      <th>product</th>\n",
       "      <th>quantity_ordered</th>\n",
       "      <th>price_each</th>\n",
       "      <th>order_date</th>\n",
       "      <th>customer_shipping_address</th>\n",
       "      <th>city_store</th>\n",
       "      <th>category</th>\n",
       "      <th>customer_gender</th>\n",
       "      <th>customer_age_range</th>\n",
       "      <th>discount</th>\n",
       "    </tr>\n",
       "  </thead>\n",
       "  <tbody>\n",
       "    <tr>\n",
       "      <th>0</th>\n",
       "      <td>236670</td>\n",
       "      <td>Wired Headphones</td>\n",
       "      <td>16</td>\n",
       "      <td>11.99</td>\n",
       "      <td>2019-08-31 22:21:00</td>\n",
       "      <td>359 Spruce St, Seattle, WA 98101</td>\n",
       "      <td>Dallas</td>\n",
       "      <td>Headphones</td>\n",
       "      <td>Male</td>\n",
       "      <td>18-20</td>\n",
       "      <td>18</td>\n",
       "    </tr>\n",
       "    <tr>\n",
       "      <th>1</th>\n",
       "      <td>236671</td>\n",
       "      <td>Bose SoundSport Headphones</td>\n",
       "      <td>9</td>\n",
       "      <td>99.99</td>\n",
       "      <td>2019-08-15 15:11:00</td>\n",
       "      <td>492 Ridge St, Dallas, TX 75001</td>\n",
       "      <td>Los Angeles</td>\n",
       "      <td>Headphones</td>\n",
       "      <td>Male</td>\n",
       "      <td>21-25</td>\n",
       "      <td>21</td>\n",
       "    </tr>\n",
       "    <tr>\n",
       "      <th>2</th>\n",
       "      <td>236672</td>\n",
       "      <td>iPhone</td>\n",
       "      <td>8</td>\n",
       "      <td>700.00</td>\n",
       "      <td>2019-08-06 14:40:00</td>\n",
       "      <td>149 7th St, Portland, OR 97035</td>\n",
       "      <td>New York City</td>\n",
       "      <td>Phone</td>\n",
       "      <td>Male</td>\n",
       "      <td>26-30</td>\n",
       "      <td>5</td>\n",
       "    </tr>\n",
       "    <tr>\n",
       "      <th>3</th>\n",
       "      <td>236673</td>\n",
       "      <td>AA Batteries (4-pack)</td>\n",
       "      <td>12</td>\n",
       "      <td>3.84</td>\n",
       "      <td>2019-08-29 20:59:00</td>\n",
       "      <td>631 2nd St, Los Angeles, CA 90001</td>\n",
       "      <td>San Francisco</td>\n",
       "      <td>Batteries</td>\n",
       "      <td>Female</td>\n",
       "      <td>31-40</td>\n",
       "      <td>8</td>\n",
       "    </tr>\n",
       "    <tr>\n",
       "      <th>4</th>\n",
       "      <td>236674</td>\n",
       "      <td>AA Batteries (4-pack)</td>\n",
       "      <td>16</td>\n",
       "      <td>3.84</td>\n",
       "      <td>2019-08-15 19:53:00</td>\n",
       "      <td>736 14th St, New York City, NY 10001</td>\n",
       "      <td>Boston</td>\n",
       "      <td>Batteries</td>\n",
       "      <td>Female</td>\n",
       "      <td>41-50</td>\n",
       "      <td>14</td>\n",
       "    </tr>\n",
       "  </tbody>\n",
       "</table>\n",
       "</div>"
      ],
      "text/plain": [
       "   order_id                     product  quantity_ordered  price_each  \\\n",
       "0    236670            Wired Headphones                16       11.99   \n",
       "1    236671  Bose SoundSport Headphones                 9       99.99   \n",
       "2    236672                      iPhone                 8      700.00   \n",
       "3    236673       AA Batteries (4-pack)                12        3.84   \n",
       "4    236674       AA Batteries (4-pack)                16        3.84   \n",
       "\n",
       "            order_date             customer_shipping_address     city_store  \\\n",
       "0  2019-08-31 22:21:00      359 Spruce St, Seattle, WA 98101         Dallas   \n",
       "1  2019-08-15 15:11:00        492 Ridge St, Dallas, TX 75001    Los Angeles   \n",
       "2  2019-08-06 14:40:00        149 7th St, Portland, OR 97035  New York City   \n",
       "3  2019-08-29 20:59:00     631 2nd St, Los Angeles, CA 90001  San Francisco   \n",
       "4  2019-08-15 19:53:00  736 14th St, New York City, NY 10001         Boston   \n",
       "\n",
       "     category customer_gender customer_age_range  discount  \n",
       "0  Headphones            Male              18-20        18  \n",
       "1  Headphones            Male              21-25        21  \n",
       "2       Phone            Male              26-30         5  \n",
       "3   Batteries          Female              31-40         8  \n",
       "4   Batteries          Female              41-50        14  "
      ]
     },
     "execution_count": 90,
     "metadata": {},
     "output_type": "execute_result"
    }
   ],
   "source": [
    "df.head()"
   ]
  },
  {
   "cell_type": "code",
   "execution_count": null,
   "id": "8ce8a5ee-c942-492a-9046-bcadb4b16dce",
   "metadata": {},
   "outputs": [],
   "source": []
  }
 ],
 "metadata": {
  "kernelspec": {
   "display_name": "Python 3 (ipykernel)",
   "language": "python",
   "name": "python3"
  },
  "language_info": {
   "codemirror_mode": {
    "name": "ipython",
    "version": 3
   },
   "file_extension": ".py",
   "mimetype": "text/x-python",
   "name": "python",
   "nbconvert_exporter": "python",
   "pygments_lexer": "ipython3",
   "version": "3.13.0"
  }
 },
 "nbformat": 4,
 "nbformat_minor": 5
}
